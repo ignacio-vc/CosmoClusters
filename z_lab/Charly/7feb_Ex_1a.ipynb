{
 "cells": [
  {
   "cell_type": "code",
   "execution_count": null,
   "metadata": {},
   "outputs": [],
   "source": [
    "import matplotlib.pyplot as plt\n",
    "import numpy as np\n",
    "import scipy.integrate as integrate\n",
    "import scipy.special as special\n",
    "%matplotlib inline\n",
    "\n",
    "z_arr = np.linspace(0., 1., 100)\n",
    "y_arr = 70*np.sqrt(0.3*(1+z_arr)**3+0.7)\n",
    "\n",
    "plt.plot(z_arr, y_arr, linestyle='--' , linewidth=3., color='b', label=r'$H(z)$')\n",
    "plt.xlabel('z')\n",
    "plt.ylabel('H(z)')\n",
    "plt.legend(fontsize=20, loc=2)\n",
    "plt.show()\n"
   ]
  }
 ],
 "metadata": {
  "kernelspec": {
   "display_name": "Python 2",
   "language": "python",
   "name": "python2"
  },
  "language_info": {
   "codemirror_mode": {
    "name": "ipython",
    "version": 2
   },
   "file_extension": ".py",
   "mimetype": "text/x-python",
   "name": "python",
   "nbconvert_exporter": "python",
   "pygments_lexer": "ipython2",
   "version": "2.7.14"
  }
 },
 "nbformat": 4,
 "nbformat_minor": 2
}
