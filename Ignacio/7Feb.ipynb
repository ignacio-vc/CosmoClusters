{
 "cells": [
  {
   "cell_type": "markdown",
   "metadata": {},
   "source": [
    "# 5. Exercises\n",
    "\n",
    "## 5.1 Play with the distances and densities\n",
    "\n",
    "### 1. Using Python, write a program to plot the Hubble function depending on the redshift (up to z=1) for the values $\\Omega_m = 0.3$, $\\Omega_\\lambda = 0.7$, $\\Omega_R = 0 $"
   ]
  },
  {
   "cell_type": "code",
   "execution_count": 1,
   "metadata": {},
   "outputs": [],
   "source": [
    "import numpy as np\n",
    "import matplotlib.pyplot as plt"
   ]
  },
  {
   "cell_type": "code",
   "execution_count": 2,
   "metadata": {},
   "outputs": [],
   "source": [
    "#Defining our three omegas\n",
    "omega_mass = 0.3 \n",
    "omega_lambda= 0.7\n",
    "omega_radiation = 0\n",
    "\n",
    "lightspeed_kms = 299792                        # Lightspeed (km/s)\n",
    "hubble_0 = 70                                  # Hubble parameter for z=0 (km/s/Mpc)\n",
    "\n",
    "z = np.random.rand(100)"
   ]
  },
  {
   "cell_type": "code",
   "execution_count": 3,
   "metadata": {},
   "outputs": [],
   "source": [
    "#hubble_distance = lightspeed_kms / hubble_0    # Distancia Hubble (Mpc)\n",
    "#z = np.arange(0,1,0.1)"
   ]
  },
  {
   "cell_type": "code",
   "execution_count": 4,
   "metadata": {},
   "outputs": [
    {
     "data": {
      "text/plain": [
       "array([  4.30987218e-01,   1.16972082e-01,   7.40370653e-01,\n",
       "         7.84416953e-01,   8.96387123e-01,   5.68128320e-01,\n",
       "         1.45125841e-01,   9.75333649e-01,   6.66182337e-04,\n",
       "         8.81795879e-01,   2.47422546e-02,   3.23929481e-01,\n",
       "         6.61937438e-01,   5.33982424e-01,   2.14551615e-01,\n",
       "         3.41421751e-02,   5.65933198e-01,   5.71854178e-01,\n",
       "         6.68274876e-01,   3.07954264e-01,   4.52675058e-01,\n",
       "         6.36061958e-02,   9.42731553e-01,   8.38367385e-01,\n",
       "         7.27285844e-01,   4.36081340e-02,   6.73786447e-01,\n",
       "         5.83220763e-01,   6.13133685e-01,   6.66242470e-02,\n",
       "         9.09354741e-01,   7.39140542e-01,   5.10104758e-01,\n",
       "         3.43466893e-01,   3.61186269e-01,   4.50884083e-01,\n",
       "         6.50508505e-01,   4.72587328e-01,   2.44548328e-01,\n",
       "         3.85121075e-01,   2.39044226e-01,   4.19196314e-01,\n",
       "         7.79585884e-01,   3.53028667e-01,   3.92220571e-01,\n",
       "         2.87006306e-01,   4.30541901e-01,   1.75678064e-01,\n",
       "         5.38180712e-01,   1.90302702e-01,   1.77906068e-01,\n",
       "         2.40171801e-04,   3.89762398e-01,   9.90335986e-01,\n",
       "         1.48528763e-01,   3.48851452e-01,   5.25114338e-01,\n",
       "         7.83696094e-01,   9.42409242e-01,   2.55330780e-01,\n",
       "         5.61328987e-01,   8.39898886e-01,   3.76149559e-01,\n",
       "         1.76723990e-01,   5.29531776e-01,   4.48936486e-01,\n",
       "         4.98466585e-01,   7.70598388e-01,   8.73719021e-01,\n",
       "         7.79434867e-01,   1.45906928e-01,   1.34852646e-01,\n",
       "         6.91086305e-01,   6.31427215e-01,   5.36916715e-01,\n",
       "         6.33253930e-01,   4.26969262e-01,   4.08002920e-01,\n",
       "         7.35445384e-01,   4.58847150e-01,   5.45050543e-01,\n",
       "         7.43064026e-01,   8.37849281e-01,   4.18368466e-02,\n",
       "         4.91540879e-01,   7.34305656e-01,   2.30434522e-01,\n",
       "         9.16933866e-01,   5.25070553e-01,   8.17513140e-01,\n",
       "         8.60603511e-01,   6.35504962e-01,   1.66679012e-01,\n",
       "         2.89957028e-02,   3.52454506e-01,   4.24066499e-01,\n",
       "         2.26153280e-01,   8.65749434e-01,   5.00557836e-01,\n",
       "         5.12242072e-01])"
      ]
     },
     "execution_count": 4,
     "metadata": {},
     "output_type": "execute_result"
    }
   ],
   "source": [
    "z"
   ]
  },
  {
   "cell_type": "code",
   "execution_count": 5,
   "metadata": {},
   "outputs": [],
   "source": [
    "def hubble_function(z):\n",
    "    hubble = hubble_0 * np.sqrt( omega_mass*(1+z)**3 + omega_radiation*(1+z)**4 + omega_lambda)\n",
    "    return hubble"
   ]
  },
  {
   "cell_type": "code",
   "execution_count": 6,
   "metadata": {},
   "outputs": [
    {
     "data": {
      "text/plain": [
       "123.24771803161305"
      ]
     },
     "execution_count": 6,
     "metadata": {},
     "output_type": "execute_result"
    }
   ],
   "source": [
    "hubble_function(1)"
   ]
  },
  {
   "cell_type": "code",
   "execution_count": 7,
   "metadata": {},
   "outputs": [],
   "source": [
    "hubble_array = np.zeros(len(z))"
   ]
  },
  {
   "cell_type": "code",
   "execution_count": 8,
   "metadata": {},
   "outputs": [
    {
     "data": {
      "text/plain": [
       "array([ 0.,  0.,  0.,  0.,  0.,  0.,  0.,  0.,  0.,  0.,  0.,  0.,  0.,\n",
       "        0.,  0.,  0.,  0.,  0.,  0.,  0.,  0.,  0.,  0.,  0.,  0.,  0.,\n",
       "        0.,  0.,  0.,  0.,  0.,  0.,  0.,  0.,  0.,  0.,  0.,  0.,  0.,\n",
       "        0.,  0.,  0.,  0.,  0.,  0.,  0.,  0.,  0.,  0.,  0.,  0.,  0.,\n",
       "        0.,  0.,  0.,  0.,  0.,  0.,  0.,  0.,  0.,  0.,  0.,  0.,  0.,\n",
       "        0.,  0.,  0.,  0.,  0.,  0.,  0.,  0.,  0.,  0.,  0.,  0.,  0.,\n",
       "        0.,  0.,  0.,  0.,  0.,  0.,  0.,  0.,  0.,  0.,  0.,  0.,  0.,\n",
       "        0.,  0.,  0.,  0.,  0.,  0.,  0.,  0.,  0.])"
      ]
     },
     "execution_count": 8,
     "metadata": {},
     "output_type": "execute_result"
    }
   ],
   "source": [
    "hubble_array "
   ]
  },
  {
   "cell_type": "code",
   "execution_count": 9,
   "metadata": {},
   "outputs": [],
   "source": [
    "for i in range(len(z)):\n",
    "    hubble_array = hubble_function(z)"
   ]
  },
  {
   "cell_type": "code",
   "execution_count": 10,
   "metadata": {},
   "outputs": [
    {
     "data": {
      "text/plain": [
       "array([  87.96302164,   74.01715511,  105.73053103,  108.54632753,\n",
       "        115.99707729,   95.38564567,   75.08248382,  121.49168633,\n",
       "         70.02099558,  115.00298441,   70.79431699,   82.71177062,\n",
       "        100.8850174 ,   93.4673062 ,   77.86972252,   71.10391115,\n",
       "         95.26095808,   95.59770828,  101.26833233,   81.97094487,\n",
       "         89.08606931,   72.10217302,  119.19914104,  112.08486407,\n",
       "        104.90699151,   71.42002617,  101.60288373,   96.24795453,\n",
       "         97.9827255 ,   72.20680521,  116.88623905,  105.65285471,\n",
       "         92.15308681,   83.63310883,   84.4831631 ,   88.99258951,\n",
       "        100.19745936,   90.13427955,   79.14348944,   85.65298885,\n",
       "         78.90666223,   87.36069349,  108.23423899,   84.09011819,\n",
       "         86.00471314,   81.01675141,   87.94016722,   76.28115981,\n",
       "         93.70071004,   76.87050531,   76.37029583,   70.00756682,\n",
       "         85.88268613,  122.5575342 ,   75.21380615,   83.88997532,\n",
       "         92.97657006,  108.49970945,  119.1766399 ,   79.61145034,\n",
       "         95.00003472,  112.18672505,   85.21160966,   76.32297524,\n",
       "         93.22063085,   88.89108535,   91.52076399,  107.6557601 ,\n",
       "        114.45564553,  108.22449606,   75.11257815,   74.68936995,\n",
       "        102.66012114,   99.06026103,   93.63036514,   99.16854501,\n",
       "         87.75711342,   86.7942983 ,  105.41983866,   89.40923486,\n",
       "         94.08413203,  105.90079018,  112.05042213,   71.36054272,\n",
       "         91.14706154,  105.34806385,   78.53900048,  117.40838428,\n",
       "         92.97415482,  110.70554325,  113.57133868,   99.30215215,\n",
       "         75.92351189,   70.93387481,   84.06256335,   87.60877606,\n",
       "         78.35744881,  113.91763655,   91.6339849 ,   92.26980024])"
      ]
     },
     "execution_count": 10,
     "metadata": {},
     "output_type": "execute_result"
    }
   ],
   "source": [
    "hubble_array"
   ]
  },
  {
   "cell_type": "code",
   "execution_count": 11,
   "metadata": {
    "scrolled": true
   },
   "outputs": [
    {
     "data": {
      "image/png": "[encoded data removed]",
      "text/plain": [
       "<matplotlib.figure.Figure at 0x7feb5b633b10>"
      ]
     },
     "metadata": {},
     "output_type": "display_data"
    }
   ],
   "source": [
    "plt.scatter(z,hubble_array)\n",
    "plt.show()"
   ]
  },
  {
   "cell_type": "code",
   "execution_count": null,
   "metadata": {},
   "outputs": [],
   "source": []
  }
 ],
 "metadata": {
  "kernelspec": {
   "display_name": "Python 2",
   "language": "python",
   "name": "python2"
  },
  "language_info": {
   "codemirror_mode": {
    "name": "ipython",
    "version": 2
   },
   "file_extension": ".py",
   "mimetype": "text/x-python",
   "name": "python",
   "nbconvert_exporter": "python",
   "pygments_lexer": "ipython2",
   "version": "2.7.14+"
  }
 },
 "nbformat": 4,
 "nbformat_minor": 2
}
