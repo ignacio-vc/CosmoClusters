{
 "cells": [
  {
   "cell_type": "markdown",
   "metadata": {},
   "source": [
    "# 5. Exercises\n",
    "\n",
    "## 5.1 Play with the distances and densities\n",
    "\n",
    "### 1. Using Python, write a program to plot the Hubble function depending on hte redshift (up to z=1) for the values $\\Omega_m = 0.3$, $\\Omega_\\lambda = 0.7$, $\\Omega_R = 0 $"
   ]
  },
  {
   "cell_type": "code",
   "execution_count": 1,
   "metadata": {},
   "outputs": [],
   "source": [
    "import numpy as np\n",
    "import matplotlib.pyplot as plt"
   ]
  },
  {
   "cell_type": "code",
   "execution_count": 2,
   "metadata": {},
   "outputs": [],
   "source": [
    "omega_mass = 0.3 \n",
    "omega_lambda= 0.7\n",
    "omega_radiation = 0\n",
    "\n",
    "lightspeed_kms = 299792                        # Velocidad de la luz (km/s)\n",
    "hubble_0 = 70                                  # Parametro de Hubble en z=0 (km/s/Mpc)\n",
    "hubble_distance = lightspeed_kms / hubble_0    # Distancia Hubble (Mpc)\n",
    "\n",
    "#z = np.arange(0,1,0.1)\n",
    "z = np.random.rand(100)"
   ]
  },
  {
   "cell_type": "code",
   "execution_count": 3,
   "metadata": {},
   "outputs": [
    {
     "data": {
      "text/plain": [
       "array([ 0.37612395,  0.53573293,  0.46881612,  0.52807795,  0.59366178,\n",
       "        0.23198759,  0.28752748,  0.76935844,  0.87817277,  0.11216769,\n",
       "        0.64907529,  0.11033444,  0.90334779,  0.38013993,  0.76522003,\n",
       "        0.10854201,  0.95940455,  0.7116859 ,  0.65629914,  0.34958194,\n",
       "        0.37589393,  0.57572224,  0.06748664,  0.03779994,  0.62783741,\n",
       "        0.80902176,  0.56600702,  0.21215009,  0.30740009,  0.29572684,\n",
       "        0.88295889,  0.32251765,  0.68040873,  0.6256437 ,  0.22031889,\n",
       "        0.43362629,  0.6752183 ,  0.92453207,  0.71907001,  0.35908513,\n",
       "        0.67873296,  0.0083942 ,  0.67443509,  0.6021236 ,  0.86219149,\n",
       "        0.45552374,  0.24268978,  0.00247372,  0.20141572,  0.88076583,\n",
       "        0.33318351,  0.75192795,  0.34071934,  0.57165657,  0.99685655,\n",
       "        0.86818686,  0.42589474,  0.41428797,  0.22558392,  0.27484347,\n",
       "        0.03108959,  0.4325965 ,  0.552457  ,  0.76188709,  0.2970284 ,\n",
       "        0.51858172,  0.7355185 ,  0.602078  ,  0.7948996 ,  0.03088918,\n",
       "        0.67894427,  0.93466601,  0.32576837,  0.90642336,  0.84679951,\n",
       "        0.72793026,  0.20818398,  0.28574166,  0.14758753,  0.86225251,\n",
       "        0.05710223,  0.18949618,  0.66236863,  0.76589741,  0.31542035,\n",
       "        0.63791619,  0.627151  ,  0.53346688,  0.51591748,  0.33525642,\n",
       "        0.15351132,  0.14433981,  0.48631527,  0.2494638 ,  0.99940525,\n",
       "        0.61728646,  0.80997404,  0.7161383 ,  0.66143177,  0.16614297])"
      ]
     },
     "execution_count": 3,
     "metadata": {},
     "output_type": "execute_result"
    }
   ],
   "source": [
    "z"
   ]
  },
  {
   "cell_type": "code",
   "execution_count": 4,
   "metadata": {},
   "outputs": [],
   "source": [
    "def hubble_function(z):\n",
    "    hubble = hubble_0 * np.sqrt( omega_mass*(1+z)**3 + omega_radiation*(1+z)**4 + omega_lambda)\n",
    "    return hubble"
   ]
  },
  {
   "cell_type": "code",
   "execution_count": 5,
   "metadata": {},
   "outputs": [],
   "source": [
    "hubble_array = np.zeros(len(z))"
   ]
  },
  {
   "cell_type": "code",
   "execution_count": 6,
   "metadata": {},
   "outputs": [
    {
     "data": {
      "text/plain": [
       "array([ 0.,  0.,  0.,  0.,  0.,  0.,  0.,  0.,  0.,  0.,  0.,  0.,  0.,\n",
       "        0.,  0.,  0.,  0.,  0.,  0.,  0.,  0.,  0.,  0.,  0.,  0.,  0.,\n",
       "        0.,  0.,  0.,  0.,  0.,  0.,  0.,  0.,  0.,  0.,  0.,  0.,  0.,\n",
       "        0.,  0.,  0.,  0.,  0.,  0.,  0.,  0.,  0.,  0.,  0.,  0.,  0.,\n",
       "        0.,  0.,  0.,  0.,  0.,  0.,  0.,  0.,  0.,  0.,  0.,  0.,  0.,\n",
       "        0.,  0.,  0.,  0.,  0.,  0.,  0.,  0.,  0.,  0.,  0.,  0.,  0.,\n",
       "        0.,  0.,  0.,  0.,  0.,  0.,  0.,  0.,  0.,  0.,  0.,  0.,  0.,\n",
       "        0.,  0.,  0.,  0.,  0.,  0.,  0.,  0.,  0.])"
      ]
     },
     "execution_count": 6,
     "metadata": {},
     "output_type": "execute_result"
    }
   ],
   "source": [
    "hubble_array "
   ]
  },
  {
   "cell_type": "code",
   "execution_count": 7,
   "metadata": {},
   "outputs": [],
   "source": [
    "for i in range(len(z)):\n",
    "    hubble_array += hubble_function(z)"
   ]
  },
  {
   "cell_type": "code",
   "execution_count": 8,
   "metadata": {},
   "outputs": [
    {
     "data": {
      "text/plain": [
       "array([  8521.035488  ,   9356.45412445,   8993.45095993,   9314.02224494,\n",
       "         9684.96111054,   7860.50693595,   8104.02525449,  10757.61679934,\n",
       "        11475.72004602,   7383.91419346,  10011.15764373,   7377.15075115,\n",
       "        11647.36929249,   8540.75005304,  10731.09042826,   7370.55350925,\n",
       "        12036.74923984,  10393.30159118,  10054.5222178 ,   8392.49204147,\n",
       "         8519.90839077,   9581.84303366,   7223.67844532,   7122.55453291,\n",
       "         9884.78266494,  11014.80533495,   9526.51481648,   7776.9542957 ,\n",
       "         8194.5449425 ,   8141.15910677,  11508.19698966,   8264.58438019,\n",
       "        10200.63118526,   9871.82449713,   7811.13964199,   8809.86335221,\n",
       "        10168.99774014,  11793.36569624,  10439.29692239,   8438.16506889,\n",
       "        10190.40743841,   7026.61371864,  10164.23287914,   9734.0260928 ,\n",
       "        11367.81113371,   8923.50285683,   7906.33655545,   7007.80714741,\n",
       "         7732.50346792,  11493.30652055,   8314.60759645,  10646.28954331,\n",
       "         8350.2527553 ,   9558.64477816,  12302.2911235 ,  11408.19637471,\n",
       "         8770.21618473,   8711.16765485,   7833.33680759,   8047.17691722,\n",
       "         7100.28998999,   8804.56817023,   9449.9574416 ,  10709.76972698,\n",
       "         8147.08139977,   9261.70641308,  10542.44445661,   9733.76099666,\n",
       "        10922.62321441,   7099.62841208,  10191.69603579,  11863.70387952,\n",
       "         8279.77715851,  11668.47744226,  11264.66446143,  10494.74094889,\n",
       "         7760.46827228,   8095.97758899,   7517.74281214,  11368.22156639,\n",
       "         7187.81891099,   7683.7742573 ,  10091.10512025,  10735.42828769,\n",
       "         8231.57634929,   9944.54758919,   9880.72614058,   9343.86923581,\n",
       "         9247.09314321,   8324.38778268,   7540.70796709,   7505.22281712,\n",
       "         9086.63762644,   7935.61628615,  12320.51613316,   9822.62355256,\n",
       "        11021.04540942,  10421.01229224,  10085.44957313,   7590.23285163])"
      ]
     },
     "execution_count": 8,
     "metadata": {},
     "output_type": "execute_result"
    }
   ],
   "source": [
    "hubble_array"
   ]
  },
  {
   "cell_type": "code",
   "execution_count": 9,
   "metadata": {
    "scrolled": true
   },
   "outputs": [
    {
     "data": {
      "image/png": "[encoded data removed]",
      "text/plain": [
       "<matplotlib.figure.Figure at 0x7fd6cb082a90>"
      ]
     },
     "metadata": {},
     "output_type": "display_data"
    }
   ],
   "source": [
    "plt.scatter(z,hubble_array)\n",
    "plt.show()"
   ]
  },
  {
   "cell_type": "code",
   "execution_count": null,
   "metadata": {},
   "outputs": [],
   "source": []
  }
 ],
 "metadata": {
  "kernelspec": {
   "display_name": "Python 2",
   "language": "python",
   "name": "python2"
  },
  "language_info": {
   "codemirror_mode": {
    "name": "ipython",
    "version": 2
   },
   "file_extension": ".py",
   "mimetype": "text/x-python",
   "name": "python",
   "nbconvert_exporter": "python",
   "pygments_lexer": "ipython2",
   "version": "2.7.14+"
  }
 },
 "nbformat": 4,
 "nbformat_minor": 2
}
