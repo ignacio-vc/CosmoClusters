{
 "cells": [
  {
   "cell_type": "markdown",
   "metadata": {},
   "source": [
    "# Exercise : Generate distances\n",
    "\n",
    "Do a code which calculate the comobile dsitance, the angular distance and the luminosity distance for the following cosmology:\n",
    "\n",
    "$\\Omega_{m,0} = 0.3$\n",
    "\n",
    "$\\Omega_{\\Lambda,0} = 0.7$\n",
    "\n",
    "Do a plot with the 3 distances, expressed in Gpc/h up to a redshift of 3.\n",
    "\n",
    "In a future TD, we will compare the results you obtain with the ones obtained using CAMB or CLASS."
   ]
  },
  {
   "cell_type": "markdown",
   "metadata": {},
   "source": [
    "# Exercise : Density evolution\n",
    "\n",
    "We consider a cosmological model in which:\n",
    "\n",
    "$\\Omega_{m,0} = 0.2999$\n",
    "\n",
    "$\\Omega_{\\Lambda,0} = 0.7$\n",
    "\n",
    "$\\Omega_{R,0} = 0.0001$\n",
    "\n",
    "\n",
    "\n",
    "Make a plot with the evolution of $\\rho_m$ with the time for redshift from $z=0$ to $z=10000$.\n",
    "In order to do it, we propose to follow this path:\n",
    "\n",
    "-1- Determine the redshift/scale factor of equivalence $z_{eq}^{\\Lambda , m}/a_{eq}^{\\Lambda , m}$ between $\\Omega_{\\Lambda}$ and $\\Omega_m$\n",
    "\n",
    "-2- Determine the redshift/scale factor of equivalence $z_{eq}^{R , m}/a_{eq}^{R , m}$ between $\\Omega_{R}$ and $\\Omega_m$\n",
    "\n",
    "-3- Determine the evolution of $a(t)$ for the era of domination of the 3 components\n",
    "\n",
    "-4- Determine the evolution of $\\rho_m(t)$ for the era of domination of the 3 components\n",
    "\n",
    "-5- Convert the $a_{eq}$ in the corresponding lookback-time\n",
    "\n",
    "-6- Plot the evolution of $\\rho_m(t)$ with the time in log-log scale for the period corresponding to $z=0$ up to $z=10000$ considering the different eras"
   ]
  },
  {
   "cell_type": "markdown",
   "metadata": {},
   "source": [
    "# Exercise : check the error evolution \n",
    "\n",
    "\n",
    "\n",
    "In one code, generate 100 times:\n",
    "\n",
    "    Normal random trails of 10 elements with variance = 1\n",
    "    Normal random trails of 100 elements with variance = 1\n",
    "    Normal random trails of 1000 elements with variance = 1\n",
    "Evaluate the mean of each realisation and then the standard deviation of the means for each group 100 realisations (1 stdev for 10 elements, one for 100 elements and one for 100 elements)\n",
    "\n",
    "report the results of the 3 standard deviations in one plot and compare with expected value $1./\\sqrt(N)$ (because each trial is with variance = 1.)\n",
    "    "
   ]
  },
  {
   "cell_type": "markdown",
   "metadata": {},
   "source": [
    "# Exercice : Random trial following a given PDF\n",
    "\n",
    "The goal of this exercise is to generate a random trial following a Probabilty Distribution Function (PDF) I give you in the file: \"PDF_double_gauss.txt\".\n",
    "\n",
    "**1)** Read the file \"**PDF_double_gauss_2018.txt**\" (think to take a look to the file befor to know if you need to transpose or not when you use numpy.loadtxt). There 2 arrays : x_arr and pdf_arr. (ie. x and p(x)) \n",
    "\n",
    "**2)** Determine the size of the element dx \n",
    "\n",
    "**3)** Check that the sum pdf_arr * dx is close to 1 (in this case, the pdf is realy a pdf)\n",
    "\n",
    "**4)** Construct the cumulative distribution function (CDF) in an array cumul_arr\n",
    "\n",
    "**5)** plot the PDF and the CDF in two diferent plots\n",
    "\n",
    "**6)** Using uniform random trials and the CDF from **4)**, generate 20000 random trials you will store in an array **myrand_arr**\n",
    "\n",
    "**7)** Plot the normed (sum=1) histogram of your trials using numpy.hist, using 500 bins between. Overplot **pdf_arr**\n",
    "\n",
    "\n"
   ]
  },
  {
   "cell_type": "code",
   "execution_count": null,
   "metadata": {
    "collapsed": true
   },
   "outputs": [],
   "source": []
  }
 ],
 "metadata": {
  "kernelspec": {
   "display_name": "Python 2",
   "language": "python",
   "name": "python2"
  },
  "language_info": {
   "codemirror_mode": {
    "name": "ipython",
    "version": 2
   },
   "file_extension": ".py",
   "mimetype": "text/x-python",
   "name": "python",
   "nbconvert_exporter": "python",
   "pygments_lexer": "ipython2",
   "version": "2.7.15"
  }
 },
 "nbformat": 4,
 "nbformat_minor": 2
}
